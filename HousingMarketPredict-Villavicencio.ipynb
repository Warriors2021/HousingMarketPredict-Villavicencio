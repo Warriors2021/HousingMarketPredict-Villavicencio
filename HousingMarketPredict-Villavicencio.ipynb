{
 "cells": [
  {
   "cell_type": "markdown",
   "id": "746c05af",
   "metadata": {},
   "source": [
    "<h1>Modelo predictivo del posible valor que puede tener una casa en la ciudad de villavicencio</h1>"
   ]
  },
  {
   "cell_type": "markdown",
   "id": "9ace3ffb",
   "metadata": {},
   "source": [
    "<h3>Descripcion:</h3>\n",
    "\n",
    "<la>Es un modelo  que busca brindar a los interesados en el mercado inmobiliario de Villavicencio, una herramienta para predecir los precios de las viviendas en la ciudad. Utilizando técnicas de aprendizaje automático y un gran conjunto de datos históricos del mercado inmobiliario de Villavicencio, este modelo busca proporcionar una visión precisa y actualizada de las tendencias del mercado y ayudar a los compradores, vendedores y inversores a tomar decisiones informadas.</la>\n",
    "\n",
    "<h3>Pasos:</h3>\n",
    "\n",
    "<li>Recoleccion de los datos de la pagina https://www.properati.com.co/s/villavicencio/casa/venta/</li>\n",
    "<li>Limpieza y preparación de los datos</li>\n",
    "<li>Análisis exploratorio de los datos</li>\n",
    "<li>Separacion de los datos en conjuntos de entrenamiento y de test</li>\n",
    "<li>Creación de Modelo de Machine Learning y visualizaciones para presentar los hallazgos</li>\n",
    "<li>Medicion de la presicion del Modelo</li>\n",
    "<li>Crear un informe de conclusiones y recomendaciones para inversionistas inmobiliarios.</li>\n",
    "<li>Herramientas y tecnologías utilizadas: Python, Pandas, Matplotlib, Jupyter notebook</li>\n",
    "\n"
   ]
  },
  {
   "cell_type": "markdown",
   "id": "59184ac5",
   "metadata": {},
   "source": [
    "<h4>Este segmento de código están importando las librerías necesarias para trabajar con un modelo de regresión lineal en Python: pandas para trabajar con los datos, scikit-learn's LinearRegression para aplicar el modelo de regresión lineal y train_test_split de scikit-learn para dividir los datos en conjuntos de entrenamiento y prueba.</h4> "
   ]
  },
  {
   "cell_type": "code",
   "execution_count": 1,
   "id": "154d7e93",
   "metadata": {},
   "outputs": [],
   "source": [
    "# importamos la librería pandas\n",
    "import pandas as pd\n",
    "\n",
    "# importamos la librería LinearRegression\n",
    "from sklearn.linear_model import LinearRegression\n",
    "\n",
    "# importamos la librería train_test_split\n",
    "from sklearn.model_selection import train_test_split\n",
    "\n",
    "# importamos la librería matplotlib\n",
    "import matplotlib.pyplot as plt"
   ]
  },
  {
   "cell_type": "code",
   "execution_count": 2,
   "id": "55a1fa03",
   "metadata": {
    "scrolled": false
   },
   "outputs": [
    {
     "data": {
      "text/html": [
       "<div>\n",
       "<style scoped>\n",
       "    .dataframe tbody tr th:only-of-type {\n",
       "        vertical-align: middle;\n",
       "    }\n",
       "\n",
       "    .dataframe tbody tr th {\n",
       "        vertical-align: top;\n",
       "    }\n",
       "\n",
       "    .dataframe thead th {\n",
       "        text-align: right;\n",
       "    }\n",
       "</style>\n",
       "<table border=\"1\" class=\"dataframe\">\n",
       "  <thead>\n",
       "    <tr style=\"text-align: right;\">\n",
       "      <th></th>\n",
       "      <th>Habitaciones</th>\n",
       "      <th>Baños</th>\n",
       "      <th>Mts2</th>\n",
       "      <th>Estrato</th>\n",
       "      <th>Precio</th>\n",
       "    </tr>\n",
       "  </thead>\n",
       "  <tbody>\n",
       "    <tr>\n",
       "      <th>0</th>\n",
       "      <td>9</td>\n",
       "      <td>6</td>\n",
       "      <td>153</td>\n",
       "      <td>1</td>\n",
       "      <td>490000000</td>\n",
       "    </tr>\n",
       "    <tr>\n",
       "      <th>1</th>\n",
       "      <td>2</td>\n",
       "      <td>1</td>\n",
       "      <td>84</td>\n",
       "      <td>1</td>\n",
       "      <td>90000000</td>\n",
       "    </tr>\n",
       "    <tr>\n",
       "      <th>2</th>\n",
       "      <td>3</td>\n",
       "      <td>1</td>\n",
       "      <td>375</td>\n",
       "      <td>1</td>\n",
       "      <td>270000000</td>\n",
       "    </tr>\n",
       "    <tr>\n",
       "      <th>3</th>\n",
       "      <td>3</td>\n",
       "      <td>2</td>\n",
       "      <td>100</td>\n",
       "      <td>1</td>\n",
       "      <td>215000000</td>\n",
       "    </tr>\n",
       "    <tr>\n",
       "      <th>4</th>\n",
       "      <td>7</td>\n",
       "      <td>4</td>\n",
       "      <td>170</td>\n",
       "      <td>1</td>\n",
       "      <td>190000000</td>\n",
       "    </tr>\n",
       "    <tr>\n",
       "      <th>...</th>\n",
       "      <td>...</td>\n",
       "      <td>...</td>\n",
       "      <td>...</td>\n",
       "      <td>...</td>\n",
       "      <td>...</td>\n",
       "    </tr>\n",
       "    <tr>\n",
       "      <th>349</th>\n",
       "      <td>3</td>\n",
       "      <td>4</td>\n",
       "      <td>160</td>\n",
       "      <td>5</td>\n",
       "      <td>550000000</td>\n",
       "    </tr>\n",
       "    <tr>\n",
       "      <th>350</th>\n",
       "      <td>3</td>\n",
       "      <td>4</td>\n",
       "      <td>290</td>\n",
       "      <td>5</td>\n",
       "      <td>680000000</td>\n",
       "    </tr>\n",
       "    <tr>\n",
       "      <th>351</th>\n",
       "      <td>4</td>\n",
       "      <td>5</td>\n",
       "      <td>170</td>\n",
       "      <td>5</td>\n",
       "      <td>720000000</td>\n",
       "    </tr>\n",
       "    <tr>\n",
       "      <th>352</th>\n",
       "      <td>4</td>\n",
       "      <td>4</td>\n",
       "      <td>140</td>\n",
       "      <td>5</td>\n",
       "      <td>500000000</td>\n",
       "    </tr>\n",
       "    <tr>\n",
       "      <th>353</th>\n",
       "      <td>4</td>\n",
       "      <td>4</td>\n",
       "      <td>270</td>\n",
       "      <td>5</td>\n",
       "      <td>950000000</td>\n",
       "    </tr>\n",
       "  </tbody>\n",
       "</table>\n",
       "<p>354 rows × 5 columns</p>\n",
       "</div>"
      ],
      "text/plain": [
       "     Habitaciones  Baños  Mts2  Estrato     Precio\n",
       "0               9      6   153        1  490000000\n",
       "1               2      1    84        1   90000000\n",
       "2               3      1   375        1  270000000\n",
       "3               3      2   100        1  215000000\n",
       "4               7      4   170        1  190000000\n",
       "..            ...    ...   ...      ...        ...\n",
       "349             3      4   160        5  550000000\n",
       "350             3      4   290        5  680000000\n",
       "351             4      5   170        5  720000000\n",
       "352             4      4   140        5  500000000\n",
       "353             4      4   270        5  950000000\n",
       "\n",
       "[354 rows x 5 columns]"
      ]
     },
     "execution_count": 2,
     "metadata": {},
     "output_type": "execute_result"
    }
   ],
   "source": [
    "# utilizamos el método 'pd.read_excel' para leer un archivo xlsx y guardarlo en un DataFrame 'df'\n",
    "df = pd.read_excel('Datos.xlsx')\n",
    "\n",
    "# imprimimos el DataFrame 'df' para verificar que los datos se hayan cargado correctamente\n",
    "df"
   ]
  },
  {
   "cell_type": "markdown",
   "id": "d52d8a46",
   "metadata": {},
   "source": [
    "<h4>Este segmento de código están dividiendo los datos en dos conjuntos: uno para entrenar el modelo y otro para probarlo. La primera línea está asignando todas las columnas del DataFrame excepto la última a una variable llamada \"x\", que será utilizada como datos de entrada para el modelo. La segunda línea está asignando la última columna del DataFrame a una variable llamada \"y\", que será utilizada como la variable objetivo o salida del modelo. La tercera línea está utilizando la función train_test_split para dividir los datos en dos conjuntos, uno para entrenar el modelo y otro para probarlo, estableciendo el tamaño del conjunto de prueba en el 20% del total.</h4>"
   ]
  },
  {
   "cell_type": "code",
   "execution_count": 3,
   "id": "7abac47d",
   "metadata": {},
   "outputs": [],
   "source": [
    "\"\"\" Asigna todas las columnas del DataFrame excepto la última a una variable x,\n",
    "que será utilizada como datos de entrada para el modelo\"\"\"\n",
    "x = df.iloc[:, :-1]  \n",
    "\n",
    "# Asigna la última columna del DataFrame a una variable y, que será utilizada como la variable objetivo o salida del modelo\n",
    "y = df.iloc[:, -1]\n",
    "\n",
    "\"\"\" utiliza la función train_test_split para dividir los datos en dos conjuntos,\n",
    "uno para entrenar el modelo y otro para probarlo, estableciendo el tamaño del conjunto de prueba en el 20% del total\"\"\"\n",
    "x_train, x_test, y_train, y_test = train_test_split(x, y, test_size=0.2)\n"
   ]
  },
  {
   "cell_type": "markdown",
   "id": "48c5971e",
   "metadata": {},
   "source": [
    "<h4>Estas líneas de código están imprimiendo los conjuntos de datos de entrenamiento y prueba que se crearon en el paso anterior.</h4>\n",
    "\n",
    "<h4>Cada una de las líneas \"print\" está imprimiendo el nombre del conjunto (x_train, x_test, y_train, y_test) y los datos dentro de cada conjunto, separando cada uno con una línea de \"-------------------\".</h4>\n",
    "\n",
    "<h4>Este código es útil para verificar que los datos se hayan dividido correctamente y para obtener una idea de cómo se ven los datos antes de continuar con el entrenamiento del modelo.</h4>"
   ]
  },
  {
   "cell_type": "code",
   "execution_count": 4,
   "id": "e1ebe004",
   "metadata": {
    "scrolled": true
   },
   "outputs": [
    {
     "name": "stdout",
     "output_type": "stream",
     "text": [
      "-------------------x_train------------------------\n",
      "     Habitaciones  Baños  Mts2  Estrato\n",
      "63              2      2    90        2\n",
      "249             3      2    75        3\n",
      "226             3      2    90        3\n",
      "323             3      3    90        4\n",
      "159             3      1    72        3\n",
      "..            ...    ...   ...      ...\n",
      "132             3      3   105        3\n",
      "0               9      6   153        1\n",
      "197             2      2    84        3\n",
      "273             3      3   115        3\n",
      "22              4      3    90        2\n",
      "\n",
      "[283 rows x 4 columns]\n",
      "-------------------x_test------------------------\n",
      "     Habitaciones  Baños  Mts2  Estrato\n",
      "222             3      2    90        3\n",
      "247             3      3   150        3\n",
      "95              4      2   140        2\n",
      "98              1      1    72        2\n",
      "40              3      1    72        2\n",
      "..            ...    ...   ...      ...\n",
      "160             3      3   126        3\n",
      "335             4      4   490        5\n",
      "270             3      2   184        3\n",
      "259             3      3    90        3\n",
      "260             2      2    72        3\n",
      "\n",
      "[71 rows x 4 columns]\n",
      "-------------------y_train------------------------\n",
      "63     115000000\n",
      "249    170000000\n",
      "226    160000000\n",
      "323    350000000\n",
      "159    185000000\n",
      "         ...    \n",
      "132    235000000\n",
      "0      490000000\n",
      "197    250000000\n",
      "273    250000000\n",
      "22     160000000\n",
      "Name: Precio, Length: 283, dtype: int64\n",
      "-------------------y_test------------------------\n",
      "222    150000000\n",
      "247    170000000\n",
      "95     215000000\n",
      "98     105000000\n",
      "40     130000000\n",
      "         ...    \n",
      "160    235000000\n",
      "335    830000000\n",
      "270    350000000\n",
      "259    270000000\n",
      "260    150000000\n",
      "Name: Precio, Length: 71, dtype: int64\n"
     ]
    }
   ],
   "source": [
    "print(\"-------------------x_train------------------------\")\n",
    "print(x_train)\n",
    "print(\"-------------------x_test------------------------\")\n",
    "print(x_test)\n",
    "print(\"-------------------y_train------------------------\")\n",
    "print(y_train)\n",
    "print(\"-------------------y_test------------------------\")\n",
    "print(y_test)\n"
   ]
  },
  {
   "cell_type": "markdown",
   "id": "b022310d",
   "metadata": {},
   "source": [
    "<h4>Este segmento de código están creando un modelo de regresión lineal, entrenando con los datos de entrenamiento y utilizando para hacer predicciones en el conjunto de prueba. La primera línea crea un objeto de la clase LinearRegression, que es el modelo de regresión lineal. La segunda línea entrena el modelo con los datos de entrenamiento, utilizando los valores de x_train como datos de entrada y los valores de y_train como salida esperada. La tercera línea utiliza el modelo entrenado para hacer predicciones en el conjunto de prueba, utilizando los valores de x_test como datos de entrada y asignando las predicciones a una variable llamada \"y_pred\".</h4>"
   ]
  },
  {
   "cell_type": "code",
   "execution_count": 5,
   "id": "b6dc9806",
   "metadata": {},
   "outputs": [],
   "source": [
    "# Crea un objeto de la clase LinearRegression, que es el modelo de regresión lineal\n",
    "regresion_lineal = LinearRegression()\n",
    "\n",
    "\"\"\" Entrena el modelo con los datos de entrenamiento, utilizando los valores de x_train\n",
    "como datos de entrada y los valores de y_train como salida esperada\"\"\"\n",
    "regresion_lineal.fit(x_train, y_train)\n",
    "\n",
    "\"\"\" Utiliza el modelo entrenado para hacer predicciones en el conjunto de prueba,\n",
    "utilizando los valores de x_test como datos de entrada y asignando las predicciones a una variable llamada 'y_pred'\"\"\"\n",
    "y_pred = regresion_lineal.predict(x_test)\n"
   ]
  },
  {
   "cell_type": "markdown",
   "id": "99f9dfc0",
   "metadata": {},
   "source": [
    "<h4>Estas dos líneas de código están calculando la precisión del modelo de regresión lineal y imprimiendo el resultado.</h4>\n",
    "\n",
    "<h4>La primera línea \"score = regresion_lineal.score(x_test, y_test)\" utiliza el método \"score\" del objeto de regresión lineal para calcular la precisión del modelo utilizando los datos de prueba, x_test y y_test. El método score toma dos argumentos, los datos de entrada y los datos de salida esperados, y devuelve un valor entre 0 y 1, donde 1 es una predicción perfecta.</h4>\n",
    "\n",
    "<h4>La segunda línea \"print(f'Precisión del modelo: {score}')\" imprime el valor de precisión del modelo utilizando una cadena de formato.</h4>"
   ]
  },
  {
   "cell_type": "code",
   "execution_count": 6,
   "id": "ac87b6da",
   "metadata": {
    "scrolled": false
   },
   "outputs": [
    {
     "name": "stdout",
     "output_type": "stream",
     "text": [
      "Precisión del modelo: 0.8312441736938866\n"
     ]
    }
   ],
   "source": [
    "score = regresion_lineal.score(x_test, y_test)\n",
    "# Utiliza el método \"score\" del objeto de regresión lineal para calcular la precisión del modelo utilizando los datos de prueba, x_test y y_test\n",
    "print(f'Precisión del modelo: {score}')\n",
    "# Imprime el valor de precisión del modelo utilizando una cadena de formato."
   ]
  },
  {
   "cell_type": "markdown",
   "id": "9085654b",
   "metadata": {},
   "source": [
    "<h4>En segmento de codigo se crea una figura y un eje utilizando el método \"subplots\" de matplotlib, luego se utiliza el método scatter para graficar los valores reales y las predicciones, se agrega una línea de tendencia con el método plot, se establecen etiquetas a los ejes y un título y finalmente se utiliza el método show para mostrar la figura.</h4>"
   ]
  },
  {
   "cell_type": "code",
   "execution_count": 7,
   "id": "f5a435f6",
   "metadata": {},
   "outputs": [
    {
     "data": {
      "image/png": "[encoded data removed]",
      "text/plain": [
       "<Figure size 640x480 with 1 Axes>"
      ]
     },
     "metadata": {},
     "output_type": "display_data"
    }
   ],
   "source": [
    "# Crea una figura y un eje\n",
    "fig, ax = plt.subplots()\n",
    "\n",
    "# Agrega los puntos de prueba y las predicciones al eje\n",
    "\n",
    "ax.scatter(y_test, y_pred, edgecolors='k', c='r', label='Predicciones')\n",
    "\n",
    "\n",
    "# Agrega una línea de tendencia\n",
    "ax.plot([y_test.min(), y_test.max()], [y_test.min(), y_test.max()], 'k--', lw=4)\n",
    "\n",
    "# Agrega etiquetas a los ejes y un título\n",
    "ax.set_xlabel('Valores Real')\n",
    "ax.set_ylabel('Predicciones')\n",
    "ax.set_title('Comparación de valores reales y predicciones')\n",
    "\n",
    "# Muestra la figura\n",
    "plt.show()"
   ]
  },
  {
   "cell_type": "code",
   "execution_count": null,
   "id": "5ee1b56e",
   "metadata": {},
   "outputs": [],
   "source": []
  }
 ],
 "metadata": {
  "kernelspec": {
   "display_name": "Python 3 (ipykernel)",
   "language": "python",
   "name": "python3"
  },
  "language_info": {
   "codemirror_mode": {
    "name": "ipython",
    "version": 3
   },
   "file_extension": ".py",
   "mimetype": "text/x-python",
   "name": "python",
   "nbconvert_exporter": "python",
   "pygments_lexer": "ipython3",
   "version": "3.9.13"
  }
 },
 "nbformat": 4,
 "nbformat_minor": 5
}
